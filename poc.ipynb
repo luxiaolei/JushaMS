{
 "cells": [
  {
   "cell_type": "code",
   "execution_count": 30,
   "metadata": {
    "collapsed": false
   },
   "outputs": [
    {
     "data": {
      "text/html": [
       "<div>\n",
       "<table border=\"1\" class=\"dataframe\">\n",
       "  <thead>\n",
       "    <tr style=\"text-align: right;\">\n",
       "      <th></th>\n",
       "      <th>jgmc</th>\n",
       "      <th>统计日期</th>\n",
       "      <th>QQ号</th>\n",
       "      <th>电子邮件</th>\n",
       "      <th>证件号码</th>\n",
       "      <th>通讯地址</th>\n",
       "      <th>姓名</th>\n",
       "      <th>性别</th>\n",
       "      <th>年龄</th>\n",
       "      <th>民族</th>\n",
       "      <th>...</th>\n",
       "      <th>高端小区客户标记</th>\n",
       "      <th>潜在高端客户标记</th>\n",
       "      <th>客户贡献度</th>\n",
       "      <th>客户活跃度</th>\n",
       "      <th>客户渠道偏好</th>\n",
       "      <th>客户金融资产偏好</th>\n",
       "      <th>核心客户号</th>\n",
       "      <th>金融资产代码_107</th>\n",
       "      <th>金融资产代码_130</th>\n",
       "      <th>金融资产代码_170</th>\n",
       "    </tr>\n",
       "  </thead>\n",
       "  <tbody>\n",
       "    <tr>\n",
       "      <th>0</th>\n",
       "      <td>锦江支行</td>\n",
       "      <td>2016/2/29</td>\n",
       "      <td>NaN</td>\n",
       "      <td>qiangweihuaer@hotmail.com</td>\n",
       "      <td>NaN</td>\n",
       "      <td>成都市成华区双林路44号13幢1单元11号</td>\n",
       "      <td>陈华</td>\n",
       "      <td>女</td>\n",
       "      <td>39</td>\n",
       "      <td>NaN</td>\n",
       "      <td>...</td>\n",
       "      <td>NaN</td>\n",
       "      <td>NaN</td>\n",
       "      <td>较高贡献</td>\n",
       "      <td>高活跃</td>\n",
       "      <td>渠道均衡型</td>\n",
       "      <td>资产均衡型</td>\n",
       "      <td>1156224749</td>\n",
       "      <td>0.0</td>\n",
       "      <td>0.0</td>\n",
       "      <td>0.0</td>\n",
       "    </tr>\n",
       "    <tr>\n",
       "      <th>1</th>\n",
       "      <td>九眼桥支行</td>\n",
       "      <td>2016/2/29</td>\n",
       "      <td>13874305</td>\n",
       "      <td>13874305@qq.com</td>\n",
       "      <td>NaN</td>\n",
       "      <td>成都市武侯区碧云路１号３栋５单元８号</td>\n",
       "      <td>何秀琴</td>\n",
       "      <td>女</td>\n",
       "      <td>43</td>\n",
       "      <td>NaN</td>\n",
       "      <td>...</td>\n",
       "      <td>NaN</td>\n",
       "      <td>潜在高端客户</td>\n",
       "      <td>较高贡献</td>\n",
       "      <td>高活跃</td>\n",
       "      <td>手机银行偏好型</td>\n",
       "      <td>资产均衡型</td>\n",
       "      <td>1507158773</td>\n",
       "      <td>0.0</td>\n",
       "      <td>0.0</td>\n",
       "      <td>0.0</td>\n",
       "    </tr>\n",
       "    <tr>\n",
       "      <th>2</th>\n",
       "      <td>骡马市支行</td>\n",
       "      <td>2016/2/29</td>\n",
       "      <td>42460595</td>\n",
       "      <td>42460595@qq.com</td>\n",
       "      <td>NaN</td>\n",
       "      <td>中国成都市青羊区蛟龙工业港高新区13座</td>\n",
       "      <td>杨春艳</td>\n",
       "      <td>女</td>\n",
       "      <td>36</td>\n",
       "      <td>NaN</td>\n",
       "      <td>...</td>\n",
       "      <td>NaN</td>\n",
       "      <td>NaN</td>\n",
       "      <td>低贡献</td>\n",
       "      <td>中活跃</td>\n",
       "      <td>渠道均衡型</td>\n",
       "      <td>理财偏好型</td>\n",
       "      <td>1338742696</td>\n",
       "      <td>0.0</td>\n",
       "      <td>0.0</td>\n",
       "      <td>0.0</td>\n",
       "    </tr>\n",
       "    <tr>\n",
       "      <th>3</th>\n",
       "      <td>营业部</td>\n",
       "      <td>2016/2/29</td>\n",
       "      <td>NaN</td>\n",
       "      <td>1@123.com</td>\n",
       "      <td>NaN</td>\n",
       "      <td>成都市成化区建设北路二段</td>\n",
       "      <td>王蔚然</td>\n",
       "      <td>女</td>\n",
       "      <td>78</td>\n",
       "      <td>NaN</td>\n",
       "      <td>...</td>\n",
       "      <td>NaN</td>\n",
       "      <td>潜在高端客户</td>\n",
       "      <td>高贡献</td>\n",
       "      <td>较高活跃</td>\n",
       "      <td>POS交易偏好型</td>\n",
       "      <td>资产均衡型</td>\n",
       "      <td>1178062318</td>\n",
       "      <td>0.0</td>\n",
       "      <td>0.0</td>\n",
       "      <td>0.0</td>\n",
       "    </tr>\n",
       "    <tr>\n",
       "      <th>4</th>\n",
       "      <td>金牛支行</td>\n",
       "      <td>2016/2/29</td>\n",
       "      <td>NaN</td>\n",
       "      <td>NaN</td>\n",
       "      <td>NaN</td>\n",
       "      <td>中国四川省金鹏街</td>\n",
       "      <td>华明英</td>\n",
       "      <td>女</td>\n",
       "      <td>37</td>\n",
       "      <td>NaN</td>\n",
       "      <td>...</td>\n",
       "      <td>NaN</td>\n",
       "      <td>NaN</td>\n",
       "      <td>中贡献</td>\n",
       "      <td>低活跃</td>\n",
       "      <td>手机银行偏好型</td>\n",
       "      <td>贷款偏好型</td>\n",
       "      <td>1519566462</td>\n",
       "      <td>0.0</td>\n",
       "      <td>0.0</td>\n",
       "      <td>0.0</td>\n",
       "    </tr>\n",
       "  </tbody>\n",
       "</table>\n",
       "<p>5 rows × 43 columns</p>\n",
       "</div>"
      ],
      "text/plain": [
       "    jgmc       统计日期       QQ号                       电子邮件  证件号码  \\\n",
       "0   锦江支行  2016/2/29       NaN  qiangweihuaer@hotmail.com   NaN   \n",
       "1  九眼桥支行  2016/2/29  13874305            13874305@qq.com   NaN   \n",
       "2  骡马市支行  2016/2/29  42460595            42460595@qq.com   NaN   \n",
       "3    营业部  2016/2/29       NaN                  1@123.com   NaN   \n",
       "4   金牛支行  2016/2/29       NaN                        NaN   NaN   \n",
       "\n",
       "                    通讯地址   姓名 性别  年龄  民族    ...     高端小区客户标记  潜在高端客户标记  客户贡献度  \\\n",
       "0  成都市成华区双林路44号13幢1单元11号   陈华  女  39 NaN    ...          NaN       NaN   较高贡献   \n",
       "1     成都市武侯区碧云路１号３栋５单元８号  何秀琴  女  43 NaN    ...          NaN    潜在高端客户   较高贡献   \n",
       "2    中国成都市青羊区蛟龙工业港高新区13座  杨春艳  女  36 NaN    ...          NaN       NaN    低贡献   \n",
       "3           成都市成化区建设北路二段  王蔚然  女  78 NaN    ...          NaN    潜在高端客户    高贡献   \n",
       "4               中国四川省金鹏街  华明英  女  37 NaN    ...          NaN       NaN    中贡献   \n",
       "\n",
       "   客户活跃度    客户渠道偏好 客户金融资产偏好       核心客户号 金融资产代码_107 金融资产代码_130 金融资产代码_170  \n",
       "0    高活跃     渠道均衡型    资产均衡型  1156224749        0.0        0.0        0.0  \n",
       "1    高活跃   手机银行偏好型    资产均衡型  1507158773        0.0        0.0        0.0  \n",
       "2    中活跃     渠道均衡型    理财偏好型  1338742696        0.0        0.0        0.0  \n",
       "3   较高活跃  POS交易偏好型    资产均衡型  1178062318        0.0        0.0        0.0  \n",
       "4    低活跃   手机银行偏好型    贷款偏好型  1519566462        0.0        0.0        0.0  \n",
       "\n",
       "[5 rows x 43 columns]"
      ]
     },
     "execution_count": 30,
     "metadata": {},
     "output_type": "execute_result"
    }
   ],
   "source": [
    "import pandas as pd\n",
    "df = pd.read_csv('data/tempdir/cleaned.csv')\n",
    "df.head()"
   ]
  },
  {
   "cell_type": "code",
   "execution_count": 27,
   "metadata": {
    "collapsed": false
   },
   "outputs": [
    {
     "ename": "IndentationError",
     "evalue": "unindent does not match any outer indentation level (<ipython-input-27-8eea97626db6>, line 53)",
     "output_type": "error",
     "traceback": [
      "\u001b[1;36m  File \u001b[1;32m\"<ipython-input-27-8eea97626db6>\"\u001b[1;36m, line \u001b[1;32m53\u001b[0m\n\u001b[1;33m    cleanedDf = pd.merge(cleaner.cleanedDf, dfYall, on='核心客户号')\u001b[0m\n\u001b[1;37m                                                               ^\u001b[0m\n\u001b[1;31mIndentationError\u001b[0m\u001b[1;31m:\u001b[0m unindent does not match any outer indentation level\n"
     ]
    }
   ],
   "source": [
    "\"\"\"\n",
    "/mainClean.py\n",
    "\n",
    "when called from command line $JUSHAPATH/$: python mainClean.py AbsDatadir\n",
    "This script do the following stuff:\n",
    "\n",
    "1.\n",
    "\"\"\"\n",
    "import sys\n",
    "\n",
    "from __init__ import confUser\n",
    "from preporcess import Cleaner, CleanerAnny\n",
    "from tools import progressPrinter\n",
    "import pandas as pd\n",
    "import os\n",
    "\n",
    "#inputDir = sys.argv[1]\n",
    "#confUser['DATADIR'] = sys.argv[1]\n",
    "\n",
    "\n",
    "\n",
    "\n",
    "\n",
    "if __name__=='__main__':\n",
    "\n",
    "\tprint(confUser['DATADIR'])\n",
    "\n",
    "\tconfUser['DATADIR'] = argv[1]\n",
    "\n",
    "\tmaptableDir = 'config/mappingTable.csv'\n",
    "\tusefulCols = ['性别', '年龄', '婚姻', '学历', '从属行业',\n",
    "\t'理财抗风险等级', '客户层级', '新老客户标记', '五级分类', '小微客户类型', '消费类资产产品', '纯消费性微贷标记',\n",
    "\t'纯质押贷款标记', '非储投资偏好', '高金融资产标记', '购买大额他行理财标记', '大额消费标记', '信用卡高还款标记',\n",
    "\t'信用卡高端消费标记', '优质行业标记', '高代发额客户标记','潜在高端客户标记', '客户贡献度',\n",
    "\t'客户活跃度', '客户渠道偏好', '客户金融资产偏好']\n",
    "\n",
    "\t\n",
    "\tcleaner = Cleaner(confUser)\n",
    "\t\n",
    "\tcleaner.startCleaning(maptableDir, usefulCols)\n",
    "\n",
    "\tcleannerAnny = CleanerAnny(confUser, ['金融资产'], v=False)\n",
    "\tcleaner.saveNlog()\n",
    "\n",
    "\tdfYall = cleannerAnny.startCleaning(intresedCode= [107, 130, 170])\n",
    "\t#dfYall.rename(columns={'核心客户号':'jgmc'},inplace=True)\n",
    "\n",
    "\tdfYallcsv = os.path.join(confUser['DATADIR'], 'dfYall.csv')\n",
    "\tdfYall.to_csv(dfYallcsv, index=False)\n",
    "    \n",
    "    #cleaner.cleanedDf['核心客户号'] = cleaner.cleanedDf.index\n",
    "\tcleaner.cleanedDf['核心客户号'] = cleaner.cleanedDf.index.values\n",
    "    cleanedDf = pd.merge(cleaner.cleanedDf, dfYall, on='核心客户号')\n",
    "\tfnc = os.path.join(confUser['DATADIR'], 'cleaned.csv')\n",
    "\tcleanedDf.to_csv(fnc, index=False)\n",
    "\t\n",
    "\n"
   ]
  },
  {
   "cell_type": "code",
   "execution_count": 29,
   "metadata": {
    "collapsed": false
   },
   "outputs": [
    {
     "data": {
      "text/plain": [
       "array([1156224749, 1507158773, 1338742696, ..., 1510873791, 1234289690,\n",
       "       1525530057])"
      ]
     },
     "execution_count": 29,
     "metadata": {},
     "output_type": "execute_result"
    }
   ],
   "source": [
    "cleaner.cleanedDf.index.values"
   ]
  },
  {
   "cell_type": "code",
   "execution_count": null,
   "metadata": {
    "collapsed": true
   },
   "outputs": [],
   "source": []
  },
  {
   "cell_type": "code",
   "execution_count": null,
   "metadata": {
    "collapsed": true
   },
   "outputs": [],
   "source": []
  },
  {
   "cell_type": "code",
   "execution_count": null,
   "metadata": {
    "collapsed": true
   },
   "outputs": [],
   "source": []
  },
  {
   "cell_type": "code",
   "execution_count": null,
   "metadata": {
    "collapsed": true
   },
   "outputs": [],
   "source": []
  },
  {
   "cell_type": "code",
   "execution_count": null,
   "metadata": {
    "collapsed": true
   },
   "outputs": [],
   "source": []
  },
  {
   "cell_type": "code",
   "execution_count": null,
   "metadata": {
    "collapsed": true
   },
   "outputs": [],
   "source": []
  },
  {
   "cell_type": "code",
   "execution_count": null,
   "metadata": {
    "collapsed": true
   },
   "outputs": [],
   "source": []
  },
  {
   "cell_type": "code",
   "execution_count": 2,
   "metadata": {
    "collapsed": false
   },
   "outputs": [],
   "source": [
    "from preporcess import CleanerAnny\n",
    "from __init__ import confUser"
   ]
  },
  {
   "cell_type": "code",
   "execution_count": 6,
   "metadata": {
    "collapsed": false
   },
   "outputs": [
    {
     "name": "stdout",
     "output_type": "stream",
     "text": [
      "data/tempdir/rawdata\n",
      "11596\n",
      "(69481, 6)\n"
     ]
    },
    {
     "name": "stderr",
     "output_type": "stream",
     "text": [
      "/Users/xl-macbook/anaconda/lib/python2.7/site-packages/pandas/core/common.py:452: UnicodeWarning: Unicode equal comparison failed to convert both arguments to Unicode - interpreting them as being unequal\n",
      "  mask = arr == x\n",
      "/Users/xl-macbook/anaconda/lib/python2.7/site-packages/pandas/core/common.py:464: UnicodeWarning: Unicode equal comparison failed to convert both arguments to Unicode - interpreting them as being unequal\n",
      "  mask |= arr == x\n"
     ]
    },
    {
     "ename": "KeyError",
     "evalue": "'\\xe9\\x87\\x91\\xe8\\x9e\\x8d\\xe8\\xb5\\x84\\xe4\\xba\\xa7\\xe4\\xbb\\xa3\\xe7\\xa0\\x81'",
     "output_type": "error",
     "traceback": [
      "\u001b[0;31m---------------------------------------------------------------------------\u001b[0m",
      "\u001b[0;31mKeyError\u001b[0m                                  Traceback (most recent call last)",
      "\u001b[0;32m<ipython-input-6-d19a73700cfa>\u001b[0m in \u001b[0;36m<module>\u001b[0;34m()\u001b[0m\n\u001b[1;32m      1\u001b[0m \u001b[0mconfUser\u001b[0m\u001b[0;34m[\u001b[0m\u001b[0;34m'DATADIR'\u001b[0m\u001b[0;34m]\u001b[0m \u001b[0;34m=\u001b[0m \u001b[0;34m'data/tempdir/'\u001b[0m\u001b[0;34m\u001b[0m\u001b[0m\n\u001b[1;32m      2\u001b[0m \u001b[0mcleannerAnny\u001b[0m \u001b[0;34m=\u001b[0m \u001b[0mCleanerAnny\u001b[0m\u001b[0;34m(\u001b[0m\u001b[0mconfUser\u001b[0m\u001b[0;34m,\u001b[0m \u001b[0;34m[\u001b[0m\u001b[0;34m'金融资产'\u001b[0m\u001b[0;34m]\u001b[0m\u001b[0;34m,\u001b[0m \u001b[0mv\u001b[0m\u001b[0;34m=\u001b[0m\u001b[0mFalse\u001b[0m\u001b[0;34m)\u001b[0m\u001b[0;34m\u001b[0m\u001b[0m\n\u001b[0;32m----> 3\u001b[0;31m \u001b[0mdfYall\u001b[0m \u001b[0;34m=\u001b[0m \u001b[0mcleannerAnny\u001b[0m\u001b[0;34m.\u001b[0m\u001b[0mstartCleaning\u001b[0m\u001b[0;34m(\u001b[0m\u001b[0mintresedCode\u001b[0m\u001b[0;34m=\u001b[0m \u001b[0;34m[\u001b[0m\u001b[0;36m107\u001b[0m\u001b[0;34m,\u001b[0m \u001b[0;36m130\u001b[0m\u001b[0;34m,\u001b[0m \u001b[0;36m170\u001b[0m\u001b[0;34m]\u001b[0m\u001b[0;34m)\u001b[0m\u001b[0;34m\u001b[0m\u001b[0m\n\u001b[0m",
      "\u001b[0;32m/Users/xl-macbook/Documents/Repos/JushaMS/preporcess.py\u001b[0m in \u001b[0;36mstartCleaning\u001b[0;34m(self, intresedCode)\u001b[0m\n\u001b[1;32m    247\u001b[0m \u001b[0;34m\u001b[0m\u001b[0m\n\u001b[1;32m    248\u001b[0m \u001b[0;34m\u001b[0m\u001b[0m\n\u001b[0;32m--> 249\u001b[0;31m         \u001b[0massetDf\u001b[0m \u001b[0;34m=\u001b[0m \u001b[0mself\u001b[0m\u001b[0;34m.\u001b[0m\u001b[0m__assetCode\u001b[0m\u001b[0;34m(\u001b[0m\u001b[0massetDf\u001b[0m\u001b[0;34m,\u001b[0m \u001b[0mintresedCode\u001b[0m\u001b[0;34m)\u001b[0m\u001b[0;34m\u001b[0m\u001b[0m\n\u001b[0m\u001b[1;32m    250\u001b[0m         \u001b[0;32mprint\u001b[0m\u001b[0;34m(\u001b[0m\u001b[0massetDf\u001b[0m\u001b[0;34m.\u001b[0m\u001b[0mshape\u001b[0m\u001b[0;34m)\u001b[0m\u001b[0;34m\u001b[0m\u001b[0m\n\u001b[1;32m    251\u001b[0m         \u001b[0mself\u001b[0m\u001b[0;34m.\u001b[0m\u001b[0mpgPrinter\u001b[0m\u001b[0;34m.\u001b[0m\u001b[0mprintStep\u001b[0m\u001b[0;34m\u001b[0m\u001b[0m\n",
      "\u001b[0;32m/Users/xl-macbook/Documents/Repos/JushaMS/preporcess.py\u001b[0m in \u001b[0;36m__assetCode\u001b[0;34m(self, assetDf, intresedCode)\u001b[0m\n\u001b[1;32m    255\u001b[0m         \u001b[0;31m#select 金融资产代码 and 核心客户号 columns\u001b[0m\u001b[0;34m\u001b[0m\u001b[0;34m\u001b[0m\u001b[0m\n\u001b[1;32m    256\u001b[0m         \u001b[0;31m#select rows based on intresed 金融资产代码\u001b[0m\u001b[0;34m\u001b[0m\u001b[0;34m\u001b[0m\u001b[0m\n\u001b[0;32m--> 257\u001b[0;31m         assetDf = assetDf.ix[assetDf['金融资产代码'].isin(intresedCode),\n\u001b[0m\u001b[1;32m    258\u001b[0m                              ['核心客户号', '金融资产代码']]\n\u001b[1;32m    259\u001b[0m \u001b[0;34m\u001b[0m\u001b[0m\n",
      "\u001b[0;32m/Users/xl-macbook/anaconda/lib/python2.7/site-packages/pandas/core/frame.pyc\u001b[0m in \u001b[0;36m__getitem__\u001b[0;34m(self, key)\u001b[0m\n\u001b[1;32m   1967\u001b[0m             \u001b[0;32mreturn\u001b[0m \u001b[0mself\u001b[0m\u001b[0;34m.\u001b[0m\u001b[0m_getitem_multilevel\u001b[0m\u001b[0;34m(\u001b[0m\u001b[0mkey\u001b[0m\u001b[0;34m)\u001b[0m\u001b[0;34m\u001b[0m\u001b[0m\n\u001b[1;32m   1968\u001b[0m         \u001b[0;32melse\u001b[0m\u001b[0;34m:\u001b[0m\u001b[0;34m\u001b[0m\u001b[0m\n\u001b[0;32m-> 1969\u001b[0;31m             \u001b[0;32mreturn\u001b[0m \u001b[0mself\u001b[0m\u001b[0;34m.\u001b[0m\u001b[0m_getitem_column\u001b[0m\u001b[0;34m(\u001b[0m\u001b[0mkey\u001b[0m\u001b[0;34m)\u001b[0m\u001b[0;34m\u001b[0m\u001b[0m\n\u001b[0m\u001b[1;32m   1970\u001b[0m \u001b[0;34m\u001b[0m\u001b[0m\n\u001b[1;32m   1971\u001b[0m     \u001b[0;32mdef\u001b[0m \u001b[0m_getitem_column\u001b[0m\u001b[0;34m(\u001b[0m\u001b[0mself\u001b[0m\u001b[0;34m,\u001b[0m \u001b[0mkey\u001b[0m\u001b[0;34m)\u001b[0m\u001b[0;34m:\u001b[0m\u001b[0;34m\u001b[0m\u001b[0m\n",
      "\u001b[0;32m/Users/xl-macbook/anaconda/lib/python2.7/site-packages/pandas/core/frame.pyc\u001b[0m in \u001b[0;36m_getitem_column\u001b[0;34m(self, key)\u001b[0m\n\u001b[1;32m   1974\u001b[0m         \u001b[0;31m# get column\u001b[0m\u001b[0;34m\u001b[0m\u001b[0;34m\u001b[0m\u001b[0m\n\u001b[1;32m   1975\u001b[0m         \u001b[0;32mif\u001b[0m \u001b[0mself\u001b[0m\u001b[0;34m.\u001b[0m\u001b[0mcolumns\u001b[0m\u001b[0;34m.\u001b[0m\u001b[0mis_unique\u001b[0m\u001b[0;34m:\u001b[0m\u001b[0;34m\u001b[0m\u001b[0m\n\u001b[0;32m-> 1976\u001b[0;31m             \u001b[0;32mreturn\u001b[0m \u001b[0mself\u001b[0m\u001b[0;34m.\u001b[0m\u001b[0m_get_item_cache\u001b[0m\u001b[0;34m(\u001b[0m\u001b[0mkey\u001b[0m\u001b[0;34m)\u001b[0m\u001b[0;34m\u001b[0m\u001b[0m\n\u001b[0m\u001b[1;32m   1977\u001b[0m \u001b[0;34m\u001b[0m\u001b[0m\n\u001b[1;32m   1978\u001b[0m         \u001b[0;31m# duplicate columns & possible reduce dimensionality\u001b[0m\u001b[0;34m\u001b[0m\u001b[0;34m\u001b[0m\u001b[0m\n",
      "\u001b[0;32m/Users/xl-macbook/anaconda/lib/python2.7/site-packages/pandas/core/generic.pyc\u001b[0m in \u001b[0;36m_get_item_cache\u001b[0;34m(self, item)\u001b[0m\n\u001b[1;32m   1089\u001b[0m         \u001b[0mres\u001b[0m \u001b[0;34m=\u001b[0m \u001b[0mcache\u001b[0m\u001b[0;34m.\u001b[0m\u001b[0mget\u001b[0m\u001b[0;34m(\u001b[0m\u001b[0mitem\u001b[0m\u001b[0;34m)\u001b[0m\u001b[0;34m\u001b[0m\u001b[0m\n\u001b[1;32m   1090\u001b[0m         \u001b[0;32mif\u001b[0m \u001b[0mres\u001b[0m \u001b[0;32mis\u001b[0m \u001b[0mNone\u001b[0m\u001b[0;34m:\u001b[0m\u001b[0;34m\u001b[0m\u001b[0m\n\u001b[0;32m-> 1091\u001b[0;31m             \u001b[0mvalues\u001b[0m \u001b[0;34m=\u001b[0m \u001b[0mself\u001b[0m\u001b[0;34m.\u001b[0m\u001b[0m_data\u001b[0m\u001b[0;34m.\u001b[0m\u001b[0mget\u001b[0m\u001b[0;34m(\u001b[0m\u001b[0mitem\u001b[0m\u001b[0;34m)\u001b[0m\u001b[0;34m\u001b[0m\u001b[0m\n\u001b[0m\u001b[1;32m   1092\u001b[0m             \u001b[0mres\u001b[0m \u001b[0;34m=\u001b[0m \u001b[0mself\u001b[0m\u001b[0;34m.\u001b[0m\u001b[0m_box_item_values\u001b[0m\u001b[0;34m(\u001b[0m\u001b[0mitem\u001b[0m\u001b[0;34m,\u001b[0m \u001b[0mvalues\u001b[0m\u001b[0;34m)\u001b[0m\u001b[0;34m\u001b[0m\u001b[0m\n\u001b[1;32m   1093\u001b[0m             \u001b[0mcache\u001b[0m\u001b[0;34m[\u001b[0m\u001b[0mitem\u001b[0m\u001b[0;34m]\u001b[0m \u001b[0;34m=\u001b[0m \u001b[0mres\u001b[0m\u001b[0;34m\u001b[0m\u001b[0m\n",
      "\u001b[0;32m/Users/xl-macbook/anaconda/lib/python2.7/site-packages/pandas/core/internals.pyc\u001b[0m in \u001b[0;36mget\u001b[0;34m(self, item, fastpath)\u001b[0m\n\u001b[1;32m   3209\u001b[0m \u001b[0;34m\u001b[0m\u001b[0m\n\u001b[1;32m   3210\u001b[0m             \u001b[0;32mif\u001b[0m \u001b[0;32mnot\u001b[0m \u001b[0misnull\u001b[0m\u001b[0;34m(\u001b[0m\u001b[0mitem\u001b[0m\u001b[0;34m)\u001b[0m\u001b[0;34m:\u001b[0m\u001b[0;34m\u001b[0m\u001b[0m\n\u001b[0;32m-> 3211\u001b[0;31m                 \u001b[0mloc\u001b[0m \u001b[0;34m=\u001b[0m \u001b[0mself\u001b[0m\u001b[0;34m.\u001b[0m\u001b[0mitems\u001b[0m\u001b[0;34m.\u001b[0m\u001b[0mget_loc\u001b[0m\u001b[0;34m(\u001b[0m\u001b[0mitem\u001b[0m\u001b[0;34m)\u001b[0m\u001b[0;34m\u001b[0m\u001b[0m\n\u001b[0m\u001b[1;32m   3212\u001b[0m             \u001b[0;32melse\u001b[0m\u001b[0;34m:\u001b[0m\u001b[0;34m\u001b[0m\u001b[0m\n\u001b[1;32m   3213\u001b[0m                 \u001b[0mindexer\u001b[0m \u001b[0;34m=\u001b[0m \u001b[0mnp\u001b[0m\u001b[0;34m.\u001b[0m\u001b[0marange\u001b[0m\u001b[0;34m(\u001b[0m\u001b[0mlen\u001b[0m\u001b[0;34m(\u001b[0m\u001b[0mself\u001b[0m\u001b[0;34m.\u001b[0m\u001b[0mitems\u001b[0m\u001b[0;34m)\u001b[0m\u001b[0;34m)\u001b[0m\u001b[0;34m[\u001b[0m\u001b[0misnull\u001b[0m\u001b[0;34m(\u001b[0m\u001b[0mself\u001b[0m\u001b[0;34m.\u001b[0m\u001b[0mitems\u001b[0m\u001b[0;34m)\u001b[0m\u001b[0;34m]\u001b[0m\u001b[0;34m\u001b[0m\u001b[0m\n",
      "\u001b[0;32m/Users/xl-macbook/anaconda/lib/python2.7/site-packages/pandas/core/index.pyc\u001b[0m in \u001b[0;36mget_loc\u001b[0;34m(self, key, method, tolerance)\u001b[0m\n\u001b[1;32m   1757\u001b[0m                                  'backfill or nearest lookups')\n\u001b[1;32m   1758\u001b[0m             \u001b[0mkey\u001b[0m \u001b[0;34m=\u001b[0m \u001b[0m_values_from_object\u001b[0m\u001b[0;34m(\u001b[0m\u001b[0mkey\u001b[0m\u001b[0;34m)\u001b[0m\u001b[0;34m\u001b[0m\u001b[0m\n\u001b[0;32m-> 1759\u001b[0;31m             \u001b[0;32mreturn\u001b[0m \u001b[0mself\u001b[0m\u001b[0;34m.\u001b[0m\u001b[0m_engine\u001b[0m\u001b[0;34m.\u001b[0m\u001b[0mget_loc\u001b[0m\u001b[0;34m(\u001b[0m\u001b[0mkey\u001b[0m\u001b[0;34m)\u001b[0m\u001b[0;34m\u001b[0m\u001b[0m\n\u001b[0m\u001b[1;32m   1760\u001b[0m \u001b[0;34m\u001b[0m\u001b[0m\n\u001b[1;32m   1761\u001b[0m         indexer = self.get_indexer([key], method=method,\n",
      "\u001b[0;32mpandas/index.pyx\u001b[0m in \u001b[0;36mpandas.index.IndexEngine.get_loc (pandas/index.c:3979)\u001b[0;34m()\u001b[0m\n",
      "\u001b[0;32mpandas/index.pyx\u001b[0m in \u001b[0;36mpandas.index.IndexEngine.get_loc (pandas/index.c:3843)\u001b[0;34m()\u001b[0m\n",
      "\u001b[0;32mpandas/hashtable.pyx\u001b[0m in \u001b[0;36mpandas.hashtable.PyObjectHashTable.get_item (pandas/hashtable.c:12265)\u001b[0;34m()\u001b[0m\n",
      "\u001b[0;32mpandas/hashtable.pyx\u001b[0m in \u001b[0;36mpandas.hashtable.PyObjectHashTable.get_item (pandas/hashtable.c:12216)\u001b[0;34m()\u001b[0m\n",
      "\u001b[0;31mKeyError\u001b[0m: '\\xe9\\x87\\x91\\xe8\\x9e\\x8d\\xe8\\xb5\\x84\\xe4\\xba\\xa7\\xe4\\xbb\\xa3\\xe7\\xa0\\x81'"
     ]
    }
   ],
   "source": [
    "confUser['DATADIR'] = 'data/tempdir/'\n",
    "cleannerAnny = CleanerAnny(confUser, ['金融资产'], v=False)\n",
    "dfYall = cleannerAnny.startCleaning(intresedCode= [107, 130, 170])"
   ]
  },
  {
   "cell_type": "code",
   "execution_count": null,
   "metadata": {
    "collapsed": true
   },
   "outputs": [],
   "source": []
  }
 ],
 "metadata": {
  "kernelspec": {
   "display_name": "Python 3",
   "language": "python",
   "name": "python3"
  },
  "language_info": {
   "codemirror_mode": {
    "name": "ipython",
    "version": 3
   },
   "file_extension": ".py",
   "mimetype": "text/x-python",
   "name": "python",
   "nbconvert_exporter": "python",
   "pygments_lexer": "ipython3",
   "version": "3.5.1"
  }
 },
 "nbformat": 4,
 "nbformat_minor": 0
}
